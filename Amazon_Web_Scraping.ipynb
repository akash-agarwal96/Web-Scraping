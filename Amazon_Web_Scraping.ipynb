{
  "nbformat": 4,
  "nbformat_minor": 0,
  "metadata": {
    "colab": {
      "name": "Amazon Web Scraping.ipynb",
      "provenance": [],
      "collapsed_sections": [],
      "mount_file_id": "1SeSehCbLfl0Ax0djSopKeZVUPXC29Cv2",
      "authorship_tag": "ABX9TyOa1huNcakOdVYASC6uZNFa",
      "include_colab_link": true
    },
    "kernelspec": {
      "name": "python3",
      "display_name": "Python 3"
    }
  },
  "cells": [
    {
      "cell_type": "markdown",
      "metadata": {
        "id": "view-in-github",
        "colab_type": "text"
      },
      "source": [
        "<a href=\"https://colab.research.google.com/github/akash-agarwal96/Web-Scraping/blob/master/Amazon_Web_Scraping.ipynb\" target=\"_parent\"><img src=\"https://colab.research.google.com/assets/colab-badge.svg\" alt=\"Open In Colab\"/></a>"
      ]
    },
    {
      "cell_type": "markdown",
      "metadata": {
        "id": "_6CWgqHhdU4B",
        "colab_type": "text"
      },
      "source": [
        "#Amazon Web Scraping of **Redmi Note 8 Pro Mobile**"
      ]
    },
    {
      "cell_type": "code",
      "metadata": {
        "id": "GbjMtloW3M9O",
        "colab_type": "code",
        "colab": {}
      },
      "source": [
        "url = \"https://www.amazon.in/Redmi-Note-Pro-Storage-Processor/product-reviews/B07X4PXKZQ/ref=cm_cr_dp_d_show_all_btm?ie=UTF8&reviewerType=all_reviews\""
      ],
      "execution_count": 0,
      "outputs": []
    },
    {
      "cell_type": "code",
      "metadata": {
        "id": "rxsPMaPb48e2",
        "colab_type": "code",
        "colab": {}
      },
      "source": [
        "import requests  ###load the url\n",
        "from bs4 import BeautifulSoup  ### Web Scraping"
      ],
      "execution_count": 0,
      "outputs": []
    },
    {
      "cell_type": "code",
      "metadata": {
        "id": "GzMFXwyw6GLD",
        "colab_type": "code",
        "colab": {
          "base_uri": "https://localhost:8080/",
          "height": 33
        },
        "outputId": "16c2355a-582f-4d40-9580-aab55faeda28"
      },
      "source": [
        "page = requests.get(url)\n",
        "page"
      ],
      "execution_count": 5,
      "outputs": [
        {
          "output_type": "execute_result",
          "data": {
            "text/plain": [
              "<Response [200]>"
            ]
          },
          "metadata": {
            "tags": []
          },
          "execution_count": 5
        }
      ]
    },
    {
      "cell_type": "code",
      "metadata": {
        "id": "-06OTtjl60Al",
        "colab_type": "code",
        "colab": {}
      },
      "source": [
        "soup = BeautifulSoup(page.content,'html.parser')\n",
        "print(soup.prettify()) ###print the data in a well formatted way)"
      ],
      "execution_count": 0,
      "outputs": []
    },
    {
      "cell_type": "code",
      "metadata": {
        "id": "bSc_FlMD7QBQ",
        "colab_type": "code",
        "colab": {
          "base_uri": "https://localhost:8080/",
          "height": 184
        },
        "outputId": "5bca90fc-1329-454f-d485-320ae67ae91a"
      },
      "source": [
        "names = soup.find_all('span',class_='a-profile-name')[2:]  ###search all the names in the webpage with the span-tag and the class mentioned (inspect page)\n",
        "names"
      ],
      "execution_count": 12,
      "outputs": [
        {
          "output_type": "execute_result",
          "data": {
            "text/plain": [
              "[<span class=\"a-profile-name\">sanower ali warsi</span>,\n",
              " <span class=\"a-profile-name\">Mukesh leve</span>,\n",
              " <span class=\"a-profile-name\">Mohammed Abdul Rahman </span>,\n",
              " <span class=\"a-profile-name\">praveen</span>,\n",
              " <span class=\"a-profile-name\">Amazon Customer</span>,\n",
              " <span class=\"a-profile-name\">Mohsin Bhatti</span>,\n",
              " <span class=\"a-profile-name\">Soumalya</span>,\n",
              " <span class=\"a-profile-name\">Alok Raghav</span>,\n",
              " <span class=\"a-profile-name\">sushil</span>,\n",
              " <span class=\"a-profile-name\">Santhosh Kumar P</span>]"
            ]
          },
          "metadata": {
            "tags": []
          },
          "execution_count": 12
        }
      ]
    },
    {
      "cell_type": "code",
      "metadata": {
        "id": "D0TO7BAD8p7B",
        "colab_type": "code",
        "colab": {
          "base_uri": "https://localhost:8080/",
          "height": 33
        },
        "outputId": "915374e5-2f9b-4d5d-c5db-bb1323abf2f1"
      },
      "source": [
        "len(names) ###length of the names that has been received"
      ],
      "execution_count": 13,
      "outputs": [
        {
          "output_type": "execute_result",
          "data": {
            "text/plain": [
              "10"
            ]
          },
          "metadata": {
            "tags": []
          },
          "execution_count": 13
        }
      ]
    },
    {
      "cell_type": "code",
      "metadata": {
        "id": "niTnVMeY99zu",
        "colab_type": "code",
        "colab": {}
      },
      "source": [
        "cust_name= []\n",
        "for i in range(0,len(names)):\n",
        "  cust_name.append(names[i].get_text())  ###Executed loop to get only the name of the customers"
      ],
      "execution_count": 0,
      "outputs": []
    },
    {
      "cell_type": "code",
      "metadata": {
        "id": "POlR-Wct-T9B",
        "colab_type": "code",
        "colab": {
          "base_uri": "https://localhost:8080/",
          "height": 184
        },
        "outputId": "410dc7d7-d213-485b-806f-351784bfae8e"
      },
      "source": [
        "cust_name"
      ],
      "execution_count": 18,
      "outputs": [
        {
          "output_type": "execute_result",
          "data": {
            "text/plain": [
              "['sanower ali warsi',\n",
              " 'Mukesh leve',\n",
              " 'Mohammed Abdul Rahman ',\n",
              " 'praveen',\n",
              " 'Amazon Customer',\n",
              " 'Mohsin Bhatti',\n",
              " 'Soumalya',\n",
              " 'Alok Raghav',\n",
              " 'sushil',\n",
              " 'Santhosh Kumar P']"
            ]
          },
          "metadata": {
            "tags": []
          },
          "execution_count": 18
        }
      ]
    },
    {
      "cell_type": "code",
      "metadata": {
        "id": "ljYYNNwY-gKL",
        "colab_type": "code",
        "colab": {
          "base_uri": "https://localhost:8080/",
          "height": 184
        },
        "outputId": "23aa5033-137a-4bd0-cc69-68ff497a0679"
      },
      "source": [
        "stars = soup.find_all('span',class_='a-icon-alt')[3:] ###no.of stars given by the customers out of 5\n",
        "stars"
      ],
      "execution_count": 21,
      "outputs": [
        {
          "output_type": "execute_result",
          "data": {
            "text/plain": [
              "[<span class=\"a-icon-alt\">3.0 out of 5 stars</span>,\n",
              " <span class=\"a-icon-alt\">5.0 out of 5 stars</span>,\n",
              " <span class=\"a-icon-alt\">4.0 out of 5 stars</span>,\n",
              " <span class=\"a-icon-alt\">1.0 out of 5 stars</span>,\n",
              " <span class=\"a-icon-alt\">4.0 out of 5 stars</span>,\n",
              " <span class=\"a-icon-alt\">5.0 out of 5 stars</span>,\n",
              " <span class=\"a-icon-alt\">2.0 out of 5 stars</span>,\n",
              " <span class=\"a-icon-alt\">1.0 out of 5 stars</span>,\n",
              " <span class=\"a-icon-alt\">4.0 out of 5 stars</span>,\n",
              " <span class=\"a-icon-alt\">3.0 out of 5 stars</span>]"
            ]
          },
          "metadata": {
            "tags": []
          },
          "execution_count": 21
        }
      ]
    },
    {
      "cell_type": "code",
      "metadata": {
        "id": "K3cfoGyd_8kk",
        "colab_type": "code",
        "colab": {
          "base_uri": "https://localhost:8080/",
          "height": 33
        },
        "outputId": "fea20f89-dae0-4d5e-9ed1-4f706d18ae3d"
      },
      "source": [
        "len(stars) ###length of the stars"
      ],
      "execution_count": 22,
      "outputs": [
        {
          "output_type": "execute_result",
          "data": {
            "text/plain": [
              "10"
            ]
          },
          "metadata": {
            "tags": []
          },
          "execution_count": 22
        }
      ]
    },
    {
      "cell_type": "code",
      "metadata": {
        "id": "lFx45_s7__g2",
        "colab_type": "code",
        "colab": {}
      },
      "source": [
        "cust_rating = []\n",
        "for i in range(0,len(stars)):\n",
        "  cust_rating.append(stars[i].get_text())  ###Executed loop to get only the stars given by the customers"
      ],
      "execution_count": 0,
      "outputs": []
    },
    {
      "cell_type": "code",
      "metadata": {
        "id": "S45RswwdAlO-",
        "colab_type": "code",
        "colab": {
          "base_uri": "https://localhost:8080/",
          "height": 184
        },
        "outputId": "1f2ea44a-8b1c-4105-9f3a-7ebd0847fa5f"
      },
      "source": [
        "cust_rating"
      ],
      "execution_count": 26,
      "outputs": [
        {
          "output_type": "execute_result",
          "data": {
            "text/plain": [
              "['3.0 out of 5 stars',\n",
              " '5.0 out of 5 stars',\n",
              " '4.0 out of 5 stars',\n",
              " '1.0 out of 5 stars',\n",
              " '4.0 out of 5 stars',\n",
              " '5.0 out of 5 stars',\n",
              " '2.0 out of 5 stars',\n",
              " '1.0 out of 5 stars',\n",
              " '4.0 out of 5 stars',\n",
              " '3.0 out of 5 stars']"
            ]
          },
          "metadata": {
            "tags": []
          },
          "execution_count": 26
        }
      ]
    },
    {
      "cell_type": "code",
      "metadata": {
        "id": "DM8KP6HhA9Gm",
        "colab_type": "code",
        "colab": {
          "base_uri": "https://localhost:8080/",
          "height": 184
        },
        "outputId": "063c33af-51f5-441f-856d-fa6c9f26adc0"
      },
      "source": [
        "title = soup.select('a.review-title span') ###Title given by the customers\n",
        "title"
      ],
      "execution_count": 71,
      "outputs": [
        {
          "output_type": "execute_result",
          "data": {
            "text/plain": [
              "[<span>friensds Read my review before by ones..</span>,\n",
              " <span>ZakaaaaaaaaaaaS</span>,\n",
              " <span>Just buy this Beast.</span>,\n",
              " <span>Bad performance,</span>,\n",
              " <span>Performance is good</span>,\n",
              " <span>Awesome value for money.</span>,\n",
              " <span>Heating problem</span>,\n",
              " <span>Worst smartphone ever by redmi.</span>,\n",
              " <span>Best in this range.</span>,\n",
              " <span>Good one but network problem</span>]"
            ]
          },
          "metadata": {
            "tags": []
          },
          "execution_count": 71
        }
      ]
    },
    {
      "cell_type": "code",
      "metadata": {
        "id": "abjp_hGABsgd",
        "colab_type": "code",
        "colab": {
          "base_uri": "https://localhost:8080/",
          "height": 33
        },
        "outputId": "332da0cf-7b1f-42ed-835d-ddb233f67e95"
      },
      "source": [
        "len(title) ###length of the title"
      ],
      "execution_count": 72,
      "outputs": [
        {
          "output_type": "execute_result",
          "data": {
            "text/plain": [
              "10"
            ]
          },
          "metadata": {
            "tags": []
          },
          "execution_count": 72
        }
      ]
    },
    {
      "cell_type": "code",
      "metadata": {
        "id": "nZL_p1BuFml2",
        "colab_type": "code",
        "colab": {}
      },
      "source": [
        "cust_title = []\n",
        "for i in range(0,len(title)):\n",
        "  cust_title.append(title[i].get_text())  ###Executed loop to get only the title written by the customers"
      ],
      "execution_count": 0,
      "outputs": []
    },
    {
      "cell_type": "code",
      "metadata": {
        "id": "7R2s-ssjF6fx",
        "colab_type": "code",
        "colab": {
          "base_uri": "https://localhost:8080/",
          "height": 184
        },
        "outputId": "52e777b8-4b66-4a38-cbe2-fe846895c373"
      },
      "source": [
        "cust_title"
      ],
      "execution_count": 74,
      "outputs": [
        {
          "output_type": "execute_result",
          "data": {
            "text/plain": [
              "['friensds Read my review before by ones..',\n",
              " 'ZakaaaaaaaaaaaS',\n",
              " 'Just buy this Beast.',\n",
              " 'Bad performance,',\n",
              " 'Performance is good',\n",
              " 'Awesome value for money.',\n",
              " 'Heating problem',\n",
              " 'Worst smartphone ever by redmi.',\n",
              " 'Best in this range.',\n",
              " 'Good one but network problem']"
            ]
          },
          "metadata": {
            "tags": []
          },
          "execution_count": 74
        }
      ]
    },
    {
      "cell_type": "code",
      "metadata": {
        "id": "vpV56q0gIRvb",
        "colab_type": "code",
        "colab": {
          "base_uri": "https://localhost:8080/",
          "height": 184
        },
        "outputId": "bc5624f4-1792-43eb-8542-2eba29152c26"
      },
      "source": [
        "dates = soup.select('span.review-date')[2:] #Review Date \n",
        "dates"
      ],
      "execution_count": 78,
      "outputs": [
        {
          "output_type": "execute_result",
          "data": {
            "text/plain": [
              "[<span class=\"a-size-base a-color-secondary review-date\" data-hook=\"review-date\">Reviewed in India on 10 November 2019</span>,\n",
              " <span class=\"a-size-base a-color-secondary review-date\" data-hook=\"review-date\">Reviewed in India on 8 November 2019</span>,\n",
              " <span class=\"a-size-base a-color-secondary review-date\" data-hook=\"review-date\">Reviewed in India on 9 November 2019</span>,\n",
              " <span class=\"a-size-base a-color-secondary review-date\" data-hook=\"review-date\">Reviewed in India on 6 November 2019</span>,\n",
              " <span class=\"a-size-base a-color-secondary review-date\" data-hook=\"review-date\">Reviewed in India on 7 November 2019</span>,\n",
              " <span class=\"a-size-base a-color-secondary review-date\" data-hook=\"review-date\">Reviewed in India on 6 November 2019</span>,\n",
              " <span class=\"a-size-base a-color-secondary review-date\" data-hook=\"review-date\">Reviewed in India on 9 November 2019</span>,\n",
              " <span class=\"a-size-base a-color-secondary review-date\" data-hook=\"review-date\">Reviewed in India on 6 November 2019</span>,\n",
              " <span class=\"a-size-base a-color-secondary review-date\" data-hook=\"review-date\">Reviewed in India on 7 November 2019</span>,\n",
              " <span class=\"a-size-base a-color-secondary review-date\" data-hook=\"review-date\">Reviewed in India on 6 November 2019</span>]"
            ]
          },
          "metadata": {
            "tags": []
          },
          "execution_count": 78
        }
      ]
    },
    {
      "cell_type": "code",
      "metadata": {
        "id": "JHLluZjlNc2h",
        "colab_type": "code",
        "colab": {
          "base_uri": "https://localhost:8080/",
          "height": 33
        },
        "outputId": "a7ad0e7b-0a3f-4e8e-dcaa-d50f4bc97f29"
      },
      "source": [
        "len(dates)"
      ],
      "execution_count": 79,
      "outputs": [
        {
          "output_type": "execute_result",
          "data": {
            "text/plain": [
              "10"
            ]
          },
          "metadata": {
            "tags": []
          },
          "execution_count": 79
        }
      ]
    },
    {
      "cell_type": "code",
      "metadata": {
        "id": "jWbEpNq0Nkii",
        "colab_type": "code",
        "colab": {}
      },
      "source": [
        "rev_date = []\n",
        "for i in range(0,len(dates)):\n",
        "  rev_date.append(dates[i].get_text())"
      ],
      "execution_count": 0,
      "outputs": []
    },
    {
      "cell_type": "code",
      "metadata": {
        "id": "NKkvigcMN-r4",
        "colab_type": "code",
        "colab": {
          "base_uri": "https://localhost:8080/",
          "height": 184
        },
        "outputId": "7c0ff596-51a5-4ee6-c34c-b1795e658927"
      },
      "source": [
        "rev_date"
      ],
      "execution_count": 81,
      "outputs": [
        {
          "output_type": "execute_result",
          "data": {
            "text/plain": [
              "['Reviewed in India on 10 November 2019',\n",
              " 'Reviewed in India on 8 November 2019',\n",
              " 'Reviewed in India on 9 November 2019',\n",
              " 'Reviewed in India on 6 November 2019',\n",
              " 'Reviewed in India on 7 November 2019',\n",
              " 'Reviewed in India on 6 November 2019',\n",
              " 'Reviewed in India on 9 November 2019',\n",
              " 'Reviewed in India on 6 November 2019',\n",
              " 'Reviewed in India on 7 November 2019',\n",
              " 'Reviewed in India on 6 November 2019']"
            ]
          },
          "metadata": {
            "tags": []
          },
          "execution_count": 81
        }
      ]
    },
    {
      "cell_type": "code",
      "metadata": {
        "id": "LGjsqKkUN_3a",
        "colab_type": "code",
        "colab": {}
      },
      "source": [
        "details = soup.select('span.review-text-content span') #Detail content of the review by the customer"
      ],
      "execution_count": 0,
      "outputs": []
    },
    {
      "cell_type": "code",
      "metadata": {
        "id": "jYc4Hs4rObXN",
        "colab_type": "code",
        "colab": {
          "base_uri": "https://localhost:8080/",
          "height": 204
        },
        "outputId": "f148b37e-80c4-4471-f6ed-4f0dfa388b8b"
      },
      "source": [
        "details"
      ],
      "execution_count": 83,
      "outputs": [
        {
          "output_type": "execute_result",
          "data": {
            "text/plain": [
              "[<span>after using 17 days ..i would like to say ..if you are thinking To by this phone for processors then go for it...i am giving 3-star just for running smoothly..but if you thinking to by for Quad camera then its Bad decission like me...( No detailing in long distance subject in Image..if you go for more than 4x zoom image quality Die..slow motion video not support to take long time..as well micron lense not professional ..)<br/>presently i am not happy with camera.. Hope for Future update...</span>,\n",
              " <span>💝 Awesome mobile in this price.<br/>💝 Value of money<br/><br/>🎁 Display : 5/5<br/>🎁 build quality : 5/5<br/>🎁 Camera : 5/5<br/>🎁 Buttery : 4.5/5<br/>🎁 Screen : 4/5<br/>🎁 Sound : 4.5/5<br/>🎁 Tuch : 4/5<br/>🎁 Performance : 4/5<br/>💐 All-over  4.2/5</span>,\n",
              " <span>I dont know why some people giving less stars,<br/>Let me give my review after using since 15 days.<br/>Divided this review in pros and cons.<br/>Pros:<br/>1.Finger print and face unlock is super fast.<br/>2. Touch is smooth.<br/>3. IPS Display which is HDR Enabled is upto the mark.<br/>4. Beautiful colours available i am using Gamma Green.<br/>5. Feel and Look is just awesome.<br/>6. Notch Display.<br/>7. Ram and internal Memory.<br/>8. Processor is super fast.<br/>9. All 4 Camera working perfectly, i love macro camera.<br/>10. Beast for Gaming.<br/>11. Build quality is awesome just side with plastic xiomi can give metal at sides.<br/><br/>Cons:<br/>1.While watching YouTube,<br/>video quality is poor, why!!! i don't understand as in other videos it is good.<br/>2. While playing games or doing heavy task temperature warm at processor side (which is left side of camera).<br/>This 2 things xiomi can fix by software updates.<br/>One less star just for this 2 cons.</span>,\n",
              " <span>Worst phone, lot of problems</span>,\n",
              " <span>Battery:good<br/>Screen:good<br/>Gaming:good<br/>Camera:for camera i will give 3.5<br/>While gaming it won't heat</span>,\n",
              " <span>one of the best mobile under this price. This phone is awesome. I have 5 start. to light weight, great feature, photo quality with ultra wide angel, micro &amp; 64 megapixel is awesome. I so lucky I got this phone on First sale with 10% discount. After using more than 3 weeks, I didn't find any issue. Battery backup is awesome, I usually charge only one time in day. after heavy use of internet, gaming like PUBG, call of duty, videos and watching online movies, still Battery backup good. Liquid cooling technology is good, after playing PUBG continually more than 2 hours, mobile little bit heat. but just rest of 3 or  5 minute, mobile get cool. Overall this phone is awesome which give separate nano sim support means we can insert two sim in different slot.</span>,\n",
              " <span>Huge heating problem. Right side of the camera is heating without playing any game ...</span>,\n",
              " <span>Camera is very poor.<br/>Device set-up is also difficult.<br/>Battery draining fast.<br/>No replacement policy.<br/>Please don't buy this phone<br/>In this price range you can go for Samsung galaxy M30s.</span>,\n",
              " <span>Very good phone. Picture quality is amazing.</span>,\n",
              " <span>I have purchased this mobile recently, I'm facing network problem in Bangalore city, using JIO sim. while speaking on call network breaks. Network problem need to be stabilized. Other than that No problem. 4 Cameras are awesome. Performance also very good.</span>]"
            ]
          },
          "metadata": {
            "tags": []
          },
          "execution_count": 83
        }
      ]
    },
    {
      "cell_type": "code",
      "metadata": {
        "id": "jcOsyxdFOeLh",
        "colab_type": "code",
        "colab": {}
      },
      "source": [
        "rev_details = []\n",
        "for i in range(0,len(details)):\n",
        "  rev_details.append(details[i].get_text())"
      ],
      "execution_count": 0,
      "outputs": []
    },
    {
      "cell_type": "code",
      "metadata": {
        "id": "eHmXd2ShOuYZ",
        "colab_type": "code",
        "colab": {
          "base_uri": "https://localhost:8080/",
          "height": 204
        },
        "outputId": "351cdcfc-20f3-4688-b6c8-fdba81876d70"
      },
      "source": [
        "rev_details"
      ],
      "execution_count": 85,
      "outputs": [
        {
          "output_type": "execute_result",
          "data": {
            "text/plain": [
              "['after using 17 days ..i would like to say ..if you are thinking To by this phone for processors then go for it...i am giving 3-star just for running smoothly..but if you thinking to by for Quad camera then its Bad decission like me...( No detailing in long distance subject in Image..if you go for more than 4x zoom image quality Die..slow motion video not support to take long time..as well micron lense not professional ..)presently i am not happy with camera.. Hope for Future update...',\n",
              " '💝 Awesome mobile in this price.💝 Value of money🎁 Display : 5/5🎁 build quality : 5/5🎁 Camera : 5/5🎁 Buttery : 4.5/5🎁 Screen : 4/5🎁 Sound : 4.5/5🎁 Tuch : 4/5🎁 Performance : 4/5💐 All-over  4.2/5',\n",
              " \"I dont know why some people giving less stars,Let me give my review after using since 15 days.Divided this review in pros and cons.Pros:1.Finger print and face unlock is super fast.2. Touch is smooth.3. IPS Display which is HDR Enabled is upto the mark.4. Beautiful colours available i am using Gamma Green.5. Feel and Look is just awesome.6. Notch Display.7. Ram and internal Memory.8. Processor is super fast.9. All 4 Camera working perfectly, i love macro camera.10. Beast for Gaming.11. Build quality is awesome just side with plastic xiomi can give metal at sides.Cons:1.While watching YouTube,video quality is poor, why!!! i don't understand as in other videos it is good.2. While playing games or doing heavy task temperature warm at processor side (which is left side of camera).This 2 things xiomi can fix by software updates.One less star just for this 2 cons.\",\n",
              " 'Worst phone, lot of problems',\n",
              " \"Battery:goodScreen:goodGaming:goodCamera:for camera i will give 3.5While gaming it won't heat\",\n",
              " \"one of the best mobile under this price. This phone is awesome. I have 5 start. to light weight, great feature, photo quality with ultra wide angel, micro & 64 megapixel is awesome. I so lucky I got this phone on First sale with 10% discount. After using more than 3 weeks, I didn't find any issue. Battery backup is awesome, I usually charge only one time in day. after heavy use of internet, gaming like PUBG, call of duty, videos and watching online movies, still Battery backup good. Liquid cooling technology is good, after playing PUBG continually more than 2 hours, mobile little bit heat. but just rest of 3 or  5 minute, mobile get cool. Overall this phone is awesome which give separate nano sim support means we can insert two sim in different slot.\",\n",
              " 'Huge heating problem. Right side of the camera is heating without playing any game ...',\n",
              " \"Camera is very poor.Device set-up is also difficult.Battery draining fast.No replacement policy.Please don't buy this phoneIn this price range you can go for Samsung galaxy M30s.\",\n",
              " 'Very good phone. Picture quality is amazing.',\n",
              " \"I have purchased this mobile recently, I'm facing network problem in Bangalore city, using JIO sim. while speaking on call network breaks. Network problem need to be stabilized. Other than that No problem. 4 Cameras are awesome. Performance also very good.\"]"
            ]
          },
          "metadata": {
            "tags": []
          },
          "execution_count": 85
        }
      ]
    },
    {
      "cell_type": "code",
      "metadata": {
        "id": "XMkKABSaOvkg",
        "colab_type": "code",
        "colab": {}
      },
      "source": [
        "import pandas as pd           ##Using panda library to set the scrapped data into dataframes(tables)\n",
        "df = pd.DataFrame()\n",
        "df['Date'] = rev_date\n",
        "df['Customer Name'] = cust_name\n",
        "df['Ratings'] = cust_rating\n",
        "df['Review Title'] = cust_title\n",
        "df['Reviews'] = rev_details \n"
      ],
      "execution_count": 0,
      "outputs": []
    },
    {
      "cell_type": "code",
      "metadata": {
        "id": "naS6FuvXRUwa",
        "colab_type": "code",
        "colab": {
          "base_uri": "https://localhost:8080/",
          "height": 529
        },
        "outputId": "cbbae565-56cf-4d47-df4c-bf56c146cc86"
      },
      "source": [
        "df"
      ],
      "execution_count": 92,
      "outputs": [
        {
          "output_type": "execute_result",
          "data": {
            "text/html": [
              "<div>\n",
              "<style scoped>\n",
              "    .dataframe tbody tr th:only-of-type {\n",
              "        vertical-align: middle;\n",
              "    }\n",
              "\n",
              "    .dataframe tbody tr th {\n",
              "        vertical-align: top;\n",
              "    }\n",
              "\n",
              "    .dataframe thead th {\n",
              "        text-align: right;\n",
              "    }\n",
              "</style>\n",
              "<table border=\"1\" class=\"dataframe\">\n",
              "  <thead>\n",
              "    <tr style=\"text-align: right;\">\n",
              "      <th></th>\n",
              "      <th>Date</th>\n",
              "      <th>Customer Name</th>\n",
              "      <th>Ratings</th>\n",
              "      <th>Review Title</th>\n",
              "      <th>Reviews</th>\n",
              "    </tr>\n",
              "  </thead>\n",
              "  <tbody>\n",
              "    <tr>\n",
              "      <th>0</th>\n",
              "      <td>Reviewed in India on 10 November 2019</td>\n",
              "      <td>3.0 out of 5 stars</td>\n",
              "      <td>3.0 out of 5 stars</td>\n",
              "      <td>friensds Read my review before by ones..</td>\n",
              "      <td>after using 17 days ..i would like to say ..if...</td>\n",
              "    </tr>\n",
              "    <tr>\n",
              "      <th>1</th>\n",
              "      <td>Reviewed in India on 8 November 2019</td>\n",
              "      <td>5.0 out of 5 stars</td>\n",
              "      <td>5.0 out of 5 stars</td>\n",
              "      <td>ZakaaaaaaaaaaaS</td>\n",
              "      <td>💝 Awesome mobile in this price.💝 Value of mone...</td>\n",
              "    </tr>\n",
              "    <tr>\n",
              "      <th>2</th>\n",
              "      <td>Reviewed in India on 9 November 2019</td>\n",
              "      <td>4.0 out of 5 stars</td>\n",
              "      <td>4.0 out of 5 stars</td>\n",
              "      <td>Just buy this Beast.</td>\n",
              "      <td>I dont know why some people giving less stars,...</td>\n",
              "    </tr>\n",
              "    <tr>\n",
              "      <th>3</th>\n",
              "      <td>Reviewed in India on 6 November 2019</td>\n",
              "      <td>1.0 out of 5 stars</td>\n",
              "      <td>1.0 out of 5 stars</td>\n",
              "      <td>Bad performance,</td>\n",
              "      <td>Worst phone, lot of problems</td>\n",
              "    </tr>\n",
              "    <tr>\n",
              "      <th>4</th>\n",
              "      <td>Reviewed in India on 7 November 2019</td>\n",
              "      <td>4.0 out of 5 stars</td>\n",
              "      <td>4.0 out of 5 stars</td>\n",
              "      <td>Performance is good</td>\n",
              "      <td>Battery:goodScreen:goodGaming:goodCamera:for c...</td>\n",
              "    </tr>\n",
              "    <tr>\n",
              "      <th>5</th>\n",
              "      <td>Reviewed in India on 6 November 2019</td>\n",
              "      <td>5.0 out of 5 stars</td>\n",
              "      <td>5.0 out of 5 stars</td>\n",
              "      <td>Awesome value for money.</td>\n",
              "      <td>one of the best mobile under this price. This ...</td>\n",
              "    </tr>\n",
              "    <tr>\n",
              "      <th>6</th>\n",
              "      <td>Reviewed in India on 9 November 2019</td>\n",
              "      <td>2.0 out of 5 stars</td>\n",
              "      <td>2.0 out of 5 stars</td>\n",
              "      <td>Heating problem</td>\n",
              "      <td>Huge heating problem. Right side of the camera...</td>\n",
              "    </tr>\n",
              "    <tr>\n",
              "      <th>7</th>\n",
              "      <td>Reviewed in India on 6 November 2019</td>\n",
              "      <td>1.0 out of 5 stars</td>\n",
              "      <td>1.0 out of 5 stars</td>\n",
              "      <td>Worst smartphone ever by redmi.</td>\n",
              "      <td>Camera is very poor.Device set-up is also diff...</td>\n",
              "    </tr>\n",
              "    <tr>\n",
              "      <th>8</th>\n",
              "      <td>Reviewed in India on 7 November 2019</td>\n",
              "      <td>4.0 out of 5 stars</td>\n",
              "      <td>4.0 out of 5 stars</td>\n",
              "      <td>Best in this range.</td>\n",
              "      <td>Very good phone. Picture quality is amazing.</td>\n",
              "    </tr>\n",
              "    <tr>\n",
              "      <th>9</th>\n",
              "      <td>Reviewed in India on 6 November 2019</td>\n",
              "      <td>3.0 out of 5 stars</td>\n",
              "      <td>3.0 out of 5 stars</td>\n",
              "      <td>Good one but network problem</td>\n",
              "      <td>I have purchased this mobile recently, I'm fac...</td>\n",
              "    </tr>\n",
              "  </tbody>\n",
              "</table>\n",
              "</div>"
            ],
            "text/plain": [
              "                                    Date  ...                                            Reviews\n",
              "0  Reviewed in India on 10 November 2019  ...  after using 17 days ..i would like to say ..if...\n",
              "1   Reviewed in India on 8 November 2019  ...  💝 Awesome mobile in this price.💝 Value of mone...\n",
              "2   Reviewed in India on 9 November 2019  ...  I dont know why some people giving less stars,...\n",
              "3   Reviewed in India on 6 November 2019  ...                       Worst phone, lot of problems\n",
              "4   Reviewed in India on 7 November 2019  ...  Battery:goodScreen:goodGaming:goodCamera:for c...\n",
              "5   Reviewed in India on 6 November 2019  ...  one of the best mobile under this price. This ...\n",
              "6   Reviewed in India on 9 November 2019  ...  Huge heating problem. Right side of the camera...\n",
              "7   Reviewed in India on 6 November 2019  ...  Camera is very poor.Device set-up is also diff...\n",
              "8   Reviewed in India on 7 November 2019  ...       Very good phone. Picture quality is amazing.\n",
              "9   Reviewed in India on 6 November 2019  ...  I have purchased this mobile recently, I'm fac...\n",
              "\n",
              "[10 rows x 5 columns]"
            ]
          },
          "metadata": {
            "tags": []
          },
          "execution_count": 92
        }
      ]
    },
    {
      "cell_type": "code",
      "metadata": {
        "id": "ioA-DxdoRVql",
        "colab_type": "code",
        "colab": {}
      },
      "source": [
        "df.to_csv(\"reviews.csv\")"
      ],
      "execution_count": 0,
      "outputs": []
    },
    {
      "cell_type": "code",
      "metadata": {
        "id": "Ptw1XTkRR5Sb",
        "colab_type": "code",
        "colab": {
          "base_uri": "https://localhost:8080/",
          "height": 50
        },
        "outputId": "86bed5cb-8c3d-4b7d-d6ff-19792ea4cd21"
      },
      "source": [
        "####Sentiment Analysis\n",
        "import nltk              \n",
        "nltk.download('vader_lexicon')"
      ],
      "execution_count": 94,
      "outputs": [
        {
          "output_type": "stream",
          "text": [
            "[nltk_data] Downloading package vader_lexicon to /root/nltk_data...\n"
          ],
          "name": "stdout"
        },
        {
          "output_type": "execute_result",
          "data": {
            "text/plain": [
              "True"
            ]
          },
          "metadata": {
            "tags": []
          },
          "execution_count": 94
        }
      ]
    },
    {
      "cell_type": "code",
      "metadata": {
        "id": "56Y3ZNbpS3zF",
        "colab_type": "code",
        "colab": {}
      },
      "source": [
        "from nltk.sentiment.vader import SentimentIntensityAnalyzer\n",
        "sia = SentimentIntensityAnalyzer()"
      ],
      "execution_count": 0,
      "outputs": []
    },
    {
      "cell_type": "code",
      "metadata": {
        "id": "9XJGZ-10TPnO",
        "colab_type": "code",
        "colab": {}
      },
      "source": [
        "polarity_scores = []          #Checking the Polarity Score ( if the score is greater than 1,it will be treated as positive or vice versa)\n",
        "for i in range(0,len(rev_details)):\n",
        "  s = sia.polarity_scores(rev_details[i])\n",
        "  polarity_scores.append(s)"
      ],
      "execution_count": 0,
      "outputs": []
    },
    {
      "cell_type": "code",
      "metadata": {
        "id": "bt3fZilHT1ej",
        "colab_type": "code",
        "colab": {
          "base_uri": "https://localhost:8080/",
          "height": 184
        },
        "outputId": "e6730420-2073-457a-c2fa-52f19fe1a7f6"
      },
      "source": [
        "polarity_scores"
      ],
      "execution_count": 97,
      "outputs": [
        {
          "output_type": "execute_result",
          "data": {
            "text/plain": [
              "[{'compound': 0.1139, 'neg': 0.11, 'neu': 0.765, 'pos': 0.125},\n",
              " {'compound': 0.7579, 'neg': 0.0, 'neu': 0.794, 'pos': 0.206},\n",
              " {'compound': 0.9819, 'neg': 0.019, 'neu': 0.786, 'pos': 0.195},\n",
              " {'compound': -0.7783, 'neg': 0.694, 'neu': 0.306, 'pos': 0.0},\n",
              " {'compound': 0.0, 'neg': 0.0, 'neu': 1.0, 'pos': 0.0},\n",
              " {'compound': 0.9839, 'neg': 0.0, 'neu': 0.767, 'pos': 0.233},\n",
              " {'compound': -0.2481, 'neg': 0.231, 'neu': 0.645, 'pos': 0.124},\n",
              " {'compound': 0.0, 'neg': 0.0, 'neu': 1.0, 'pos': 0.0},\n",
              " {'compound': 0.7902, 'neg': 0.0, 'neu': 0.417, 'pos': 0.583},\n",
              " {'compound': -0.2516, 'neg': 0.204, 'neu': 0.652, 'pos': 0.144}]"
            ]
          },
          "metadata": {
            "tags": []
          },
          "execution_count": 97
        }
      ]
    },
    {
      "cell_type": "code",
      "metadata": {
        "id": "KV8CUeYcT3W4",
        "colab_type": "code",
        "colab": {}
      },
      "source": [
        "score =[]\n",
        "for i in range(0,len(polarity_scores)):\n",
        "  x = polarity_scores[i]['compound']\n",
        "  if x > 0:\n",
        "    score.append(\"Positive Review\")\n",
        "  elif x ==0:\n",
        "    score.append(\"Neutral Review\")\n",
        "  else:\n",
        "    score.append(\"Negative Review\")    "
      ],
      "execution_count": 0,
      "outputs": []
    },
    {
      "cell_type": "code",
      "metadata": {
        "id": "alrnhtRmUqXX",
        "colab_type": "code",
        "colab": {
          "base_uri": "https://localhost:8080/",
          "height": 184
        },
        "outputId": "be5ba092-2009-447d-a892-389995391168"
      },
      "source": [
        "score"
      ],
      "execution_count": 102,
      "outputs": [
        {
          "output_type": "execute_result",
          "data": {
            "text/plain": [
              "['Positive Review',\n",
              " 'Positive Review',\n",
              " 'Positive Review',\n",
              " 'Negative Review',\n",
              " 'Neutral Review',\n",
              " 'Positive Review',\n",
              " 'Negative Review',\n",
              " 'Neutral Review',\n",
              " 'Positive Review',\n",
              " 'Negative Review']"
            ]
          },
          "metadata": {
            "tags": []
          },
          "execution_count": 102
        }
      ]
    },
    {
      "cell_type": "code",
      "metadata": {
        "id": "YBHZQMmSUyEq",
        "colab_type": "code",
        "colab": {}
      },
      "source": [
        "df['Score'] = score"
      ],
      "execution_count": 0,
      "outputs": []
    },
    {
      "cell_type": "code",
      "metadata": {
        "id": "hQDdINMaU7GG",
        "colab_type": "code",
        "colab": {
          "base_uri": "https://localhost:8080/",
          "height": 529
        },
        "outputId": "857798cc-7dd4-49dc-ed08-044444a7f9ab"
      },
      "source": [
        "df"
      ],
      "execution_count": 104,
      "outputs": [
        {
          "output_type": "execute_result",
          "data": {
            "text/html": [
              "<div>\n",
              "<style scoped>\n",
              "    .dataframe tbody tr th:only-of-type {\n",
              "        vertical-align: middle;\n",
              "    }\n",
              "\n",
              "    .dataframe tbody tr th {\n",
              "        vertical-align: top;\n",
              "    }\n",
              "\n",
              "    .dataframe thead th {\n",
              "        text-align: right;\n",
              "    }\n",
              "</style>\n",
              "<table border=\"1\" class=\"dataframe\">\n",
              "  <thead>\n",
              "    <tr style=\"text-align: right;\">\n",
              "      <th></th>\n",
              "      <th>Date</th>\n",
              "      <th>Customer Name</th>\n",
              "      <th>Ratings</th>\n",
              "      <th>Review Title</th>\n",
              "      <th>Reviews</th>\n",
              "      <th>Score</th>\n",
              "    </tr>\n",
              "  </thead>\n",
              "  <tbody>\n",
              "    <tr>\n",
              "      <th>0</th>\n",
              "      <td>Reviewed in India on 10 November 2019</td>\n",
              "      <td>3.0 out of 5 stars</td>\n",
              "      <td>3.0 out of 5 stars</td>\n",
              "      <td>friensds Read my review before by ones..</td>\n",
              "      <td>after using 17 days ..i would like to say ..if...</td>\n",
              "      <td>Positive Review</td>\n",
              "    </tr>\n",
              "    <tr>\n",
              "      <th>1</th>\n",
              "      <td>Reviewed in India on 8 November 2019</td>\n",
              "      <td>5.0 out of 5 stars</td>\n",
              "      <td>5.0 out of 5 stars</td>\n",
              "      <td>ZakaaaaaaaaaaaS</td>\n",
              "      <td>💝 Awesome mobile in this price.💝 Value of mone...</td>\n",
              "      <td>Positive Review</td>\n",
              "    </tr>\n",
              "    <tr>\n",
              "      <th>2</th>\n",
              "      <td>Reviewed in India on 9 November 2019</td>\n",
              "      <td>4.0 out of 5 stars</td>\n",
              "      <td>4.0 out of 5 stars</td>\n",
              "      <td>Just buy this Beast.</td>\n",
              "      <td>I dont know why some people giving less stars,...</td>\n",
              "      <td>Positive Review</td>\n",
              "    </tr>\n",
              "    <tr>\n",
              "      <th>3</th>\n",
              "      <td>Reviewed in India on 6 November 2019</td>\n",
              "      <td>1.0 out of 5 stars</td>\n",
              "      <td>1.0 out of 5 stars</td>\n",
              "      <td>Bad performance,</td>\n",
              "      <td>Worst phone, lot of problems</td>\n",
              "      <td>Negative Review</td>\n",
              "    </tr>\n",
              "    <tr>\n",
              "      <th>4</th>\n",
              "      <td>Reviewed in India on 7 November 2019</td>\n",
              "      <td>4.0 out of 5 stars</td>\n",
              "      <td>4.0 out of 5 stars</td>\n",
              "      <td>Performance is good</td>\n",
              "      <td>Battery:goodScreen:goodGaming:goodCamera:for c...</td>\n",
              "      <td>Neutral Review</td>\n",
              "    </tr>\n",
              "    <tr>\n",
              "      <th>5</th>\n",
              "      <td>Reviewed in India on 6 November 2019</td>\n",
              "      <td>5.0 out of 5 stars</td>\n",
              "      <td>5.0 out of 5 stars</td>\n",
              "      <td>Awesome value for money.</td>\n",
              "      <td>one of the best mobile under this price. This ...</td>\n",
              "      <td>Positive Review</td>\n",
              "    </tr>\n",
              "    <tr>\n",
              "      <th>6</th>\n",
              "      <td>Reviewed in India on 9 November 2019</td>\n",
              "      <td>2.0 out of 5 stars</td>\n",
              "      <td>2.0 out of 5 stars</td>\n",
              "      <td>Heating problem</td>\n",
              "      <td>Huge heating problem. Right side of the camera...</td>\n",
              "      <td>Negative Review</td>\n",
              "    </tr>\n",
              "    <tr>\n",
              "      <th>7</th>\n",
              "      <td>Reviewed in India on 6 November 2019</td>\n",
              "      <td>1.0 out of 5 stars</td>\n",
              "      <td>1.0 out of 5 stars</td>\n",
              "      <td>Worst smartphone ever by redmi.</td>\n",
              "      <td>Camera is very poor.Device set-up is also diff...</td>\n",
              "      <td>Neutral Review</td>\n",
              "    </tr>\n",
              "    <tr>\n",
              "      <th>8</th>\n",
              "      <td>Reviewed in India on 7 November 2019</td>\n",
              "      <td>4.0 out of 5 stars</td>\n",
              "      <td>4.0 out of 5 stars</td>\n",
              "      <td>Best in this range.</td>\n",
              "      <td>Very good phone. Picture quality is amazing.</td>\n",
              "      <td>Positive Review</td>\n",
              "    </tr>\n",
              "    <tr>\n",
              "      <th>9</th>\n",
              "      <td>Reviewed in India on 6 November 2019</td>\n",
              "      <td>3.0 out of 5 stars</td>\n",
              "      <td>3.0 out of 5 stars</td>\n",
              "      <td>Good one but network problem</td>\n",
              "      <td>I have purchased this mobile recently, I'm fac...</td>\n",
              "      <td>Negative Review</td>\n",
              "    </tr>\n",
              "  </tbody>\n",
              "</table>\n",
              "</div>"
            ],
            "text/plain": [
              "                                    Date  ...            Score\n",
              "0  Reviewed in India on 10 November 2019  ...  Positive Review\n",
              "1   Reviewed in India on 8 November 2019  ...  Positive Review\n",
              "2   Reviewed in India on 9 November 2019  ...  Positive Review\n",
              "3   Reviewed in India on 6 November 2019  ...  Negative Review\n",
              "4   Reviewed in India on 7 November 2019  ...   Neutral Review\n",
              "5   Reviewed in India on 6 November 2019  ...  Positive Review\n",
              "6   Reviewed in India on 9 November 2019  ...  Negative Review\n",
              "7   Reviewed in India on 6 November 2019  ...   Neutral Review\n",
              "8   Reviewed in India on 7 November 2019  ...  Positive Review\n",
              "9   Reviewed in India on 6 November 2019  ...  Negative Review\n",
              "\n",
              "[10 rows x 6 columns]"
            ]
          },
          "metadata": {
            "tags": []
          },
          "execution_count": 104
        }
      ]
    },
    {
      "cell_type": "code",
      "metadata": {
        "id": "4g5DW-aCVfVQ",
        "colab_type": "code",
        "colab": {}
      },
      "source": [
        "df.to_csv(\"reviews.csv\")  #Exporting the data frame into an Csv file\n"
      ],
      "execution_count": 0,
      "outputs": []
    },
    {
      "cell_type": "markdown",
      "metadata": {
        "id": "yuBuSBeHdEsi",
        "colab_type": "text"
      },
      "source": [
        "**Data** **Visualization**\n"
      ]
    },
    {
      "cell_type": "code",
      "metadata": {
        "id": "PGxuAC9dU798",
        "colab_type": "code",
        "colab": {}
      },
      "source": [
        "import matplotlib.pyplot as plt          ##Importing matplotlib library for data visualization of Score column.\n",
        "import matplotlib.patches as mpatches"
      ],
      "execution_count": 0,
      "outputs": []
    },
    {
      "cell_type": "code",
      "metadata": {
        "id": "aEnQY_k9VmTy",
        "colab_type": "code",
        "colab": {}
      },
      "source": [
        "review = pd.read_csv(\"reviews.csv\")"
      ],
      "execution_count": 0,
      "outputs": []
    },
    {
      "cell_type": "code",
      "metadata": {
        "id": "63CHuImrV5ir",
        "colab_type": "code",
        "colab": {
          "base_uri": "https://localhost:8080/",
          "height": 529
        },
        "outputId": "7e88937d-4d3f-41bc-fa21-8b3665a98424"
      },
      "source": [
        "review"
      ],
      "execution_count": 134,
      "outputs": [
        {
          "output_type": "execute_result",
          "data": {
            "text/html": [
              "<div>\n",
              "<style scoped>\n",
              "    .dataframe tbody tr th:only-of-type {\n",
              "        vertical-align: middle;\n",
              "    }\n",
              "\n",
              "    .dataframe tbody tr th {\n",
              "        vertical-align: top;\n",
              "    }\n",
              "\n",
              "    .dataframe thead th {\n",
              "        text-align: right;\n",
              "    }\n",
              "</style>\n",
              "<table border=\"1\" class=\"dataframe\">\n",
              "  <thead>\n",
              "    <tr style=\"text-align: right;\">\n",
              "      <th></th>\n",
              "      <th>Unnamed: 0</th>\n",
              "      <th>Date</th>\n",
              "      <th>Customer Name</th>\n",
              "      <th>Ratings</th>\n",
              "      <th>Review Title</th>\n",
              "      <th>Reviews</th>\n",
              "      <th>Score</th>\n",
              "    </tr>\n",
              "  </thead>\n",
              "  <tbody>\n",
              "    <tr>\n",
              "      <th>0</th>\n",
              "      <td>0</td>\n",
              "      <td>Reviewed in India on 10 November 2019</td>\n",
              "      <td>3.0 out of 5 stars</td>\n",
              "      <td>3.0 out of 5 stars</td>\n",
              "      <td>friensds Read my review before by ones..</td>\n",
              "      <td>after using 17 days ..i would like to say ..if...</td>\n",
              "      <td>Positive Review</td>\n",
              "    </tr>\n",
              "    <tr>\n",
              "      <th>1</th>\n",
              "      <td>1</td>\n",
              "      <td>Reviewed in India on 8 November 2019</td>\n",
              "      <td>5.0 out of 5 stars</td>\n",
              "      <td>5.0 out of 5 stars</td>\n",
              "      <td>ZakaaaaaaaaaaaS</td>\n",
              "      <td>💝 Awesome mobile in this price.💝 Value of mone...</td>\n",
              "      <td>Positive Review</td>\n",
              "    </tr>\n",
              "    <tr>\n",
              "      <th>2</th>\n",
              "      <td>2</td>\n",
              "      <td>Reviewed in India on 9 November 2019</td>\n",
              "      <td>4.0 out of 5 stars</td>\n",
              "      <td>4.0 out of 5 stars</td>\n",
              "      <td>Just buy this Beast.</td>\n",
              "      <td>I dont know why some people giving less stars,...</td>\n",
              "      <td>Positive Review</td>\n",
              "    </tr>\n",
              "    <tr>\n",
              "      <th>3</th>\n",
              "      <td>3</td>\n",
              "      <td>Reviewed in India on 6 November 2019</td>\n",
              "      <td>1.0 out of 5 stars</td>\n",
              "      <td>1.0 out of 5 stars</td>\n",
              "      <td>Bad performance,</td>\n",
              "      <td>Worst phone, lot of problems</td>\n",
              "      <td>Negative Review</td>\n",
              "    </tr>\n",
              "    <tr>\n",
              "      <th>4</th>\n",
              "      <td>4</td>\n",
              "      <td>Reviewed in India on 7 November 2019</td>\n",
              "      <td>4.0 out of 5 stars</td>\n",
              "      <td>4.0 out of 5 stars</td>\n",
              "      <td>Performance is good</td>\n",
              "      <td>Battery:goodScreen:goodGaming:goodCamera:for c...</td>\n",
              "      <td>Neutral Review</td>\n",
              "    </tr>\n",
              "    <tr>\n",
              "      <th>5</th>\n",
              "      <td>5</td>\n",
              "      <td>Reviewed in India on 6 November 2019</td>\n",
              "      <td>5.0 out of 5 stars</td>\n",
              "      <td>5.0 out of 5 stars</td>\n",
              "      <td>Awesome value for money.</td>\n",
              "      <td>one of the best mobile under this price. This ...</td>\n",
              "      <td>Positive Review</td>\n",
              "    </tr>\n",
              "    <tr>\n",
              "      <th>6</th>\n",
              "      <td>6</td>\n",
              "      <td>Reviewed in India on 9 November 2019</td>\n",
              "      <td>2.0 out of 5 stars</td>\n",
              "      <td>2.0 out of 5 stars</td>\n",
              "      <td>Heating problem</td>\n",
              "      <td>Huge heating problem. Right side of the camera...</td>\n",
              "      <td>Negative Review</td>\n",
              "    </tr>\n",
              "    <tr>\n",
              "      <th>7</th>\n",
              "      <td>7</td>\n",
              "      <td>Reviewed in India on 6 November 2019</td>\n",
              "      <td>1.0 out of 5 stars</td>\n",
              "      <td>1.0 out of 5 stars</td>\n",
              "      <td>Worst smartphone ever by redmi.</td>\n",
              "      <td>Camera is very poor.Device set-up is also diff...</td>\n",
              "      <td>Neutral Review</td>\n",
              "    </tr>\n",
              "    <tr>\n",
              "      <th>8</th>\n",
              "      <td>8</td>\n",
              "      <td>Reviewed in India on 7 November 2019</td>\n",
              "      <td>4.0 out of 5 stars</td>\n",
              "      <td>4.0 out of 5 stars</td>\n",
              "      <td>Best in this range.</td>\n",
              "      <td>Very good phone. Picture quality is amazing.</td>\n",
              "      <td>Positive Review</td>\n",
              "    </tr>\n",
              "    <tr>\n",
              "      <th>9</th>\n",
              "      <td>9</td>\n",
              "      <td>Reviewed in India on 6 November 2019</td>\n",
              "      <td>3.0 out of 5 stars</td>\n",
              "      <td>3.0 out of 5 stars</td>\n",
              "      <td>Good one but network problem</td>\n",
              "      <td>I have purchased this mobile recently, I'm fac...</td>\n",
              "      <td>Negative Review</td>\n",
              "    </tr>\n",
              "  </tbody>\n",
              "</table>\n",
              "</div>"
            ],
            "text/plain": [
              "   Unnamed: 0  ...            Score\n",
              "0           0  ...  Positive Review\n",
              "1           1  ...  Positive Review\n",
              "2           2  ...  Positive Review\n",
              "3           3  ...  Negative Review\n",
              "4           4  ...   Neutral Review\n",
              "5           5  ...  Positive Review\n",
              "6           6  ...  Negative Review\n",
              "7           7  ...   Neutral Review\n",
              "8           8  ...  Positive Review\n",
              "9           9  ...  Negative Review\n",
              "\n",
              "[10 rows x 7 columns]"
            ]
          },
          "metadata": {
            "tags": []
          },
          "execution_count": 134
        }
      ]
    },
    {
      "cell_type": "code",
      "metadata": {
        "id": "8U4hi865V8AC",
        "colab_type": "code",
        "colab": {
          "base_uri": "https://localhost:8080/",
          "height": 285
        },
        "outputId": "42455541-6545-418a-9d9b-300fc39331f9"
      },
      "source": [
        "pie = df['Score'].value_counts().plot(kind=\"pie\", autopct='%1.1f%%', labels=['Positive', 'Negative' , 'Neutral'])   ##Creating the Pie Chart\n",
        "pie.set_title(\"Review of Redmi Note 8 Pro Mobile\", fontsize=18)\n",
        "Positive = mpatches.Patch(color='blue', label='Positive')\n",
        "Neutral = mpatches.Patch(color='green', label='Neutral')\n",
        "Negative = mpatches.Patch(color='orange', label='Negative')\n",
        "plt.legend(handles=[Positive,Neutral,Negative], loc='center left', bbox_to_anchor=(1, 0.5))\n"
      ],
      "execution_count": 132,
      "outputs": [
        {
          "output_type": "execute_result",
          "data": {
            "text/plain": [
              "<matplotlib.legend.Legend at 0x7fef1a541780>"
            ]
          },
          "metadata": {
            "tags": []
          },
          "execution_count": 132
        },
        {
          "output_type": "display_data",
          "data": {
            "image/png": "[encoded data removed]",
            "text/plain": [
              "<Figure size 432x288 with 1 Axes>"
            ]
          },
          "metadata": {
            "tags": []
          }
        }
      ]
    },
    {
      "cell_type": "code",
      "metadata": {
        "id": "ik_O6e8hXEJX",
        "colab_type": "code",
        "colab": {}
      },
      "source": [
        "###Thank you"
      ],
      "execution_count": 0,
      "outputs": []
    }
  ]
}